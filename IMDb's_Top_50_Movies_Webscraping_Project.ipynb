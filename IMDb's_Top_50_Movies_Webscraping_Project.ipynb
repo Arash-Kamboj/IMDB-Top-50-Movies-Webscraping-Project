{
  "nbformat": 4,
  "nbformat_minor": 0,
  "metadata": {
    "colab": {
      "provenance": [],
      "authorship_tag": "ABX9TyPsUE3XyfnBalIch74rbce2",
      "include_colab_link": true
    },
    "kernelspec": {
      "name": "python3",
      "display_name": "Python 3"
    },
    "language_info": {
      "name": "python"
    }
  },
  "cells": [
    {
      "cell_type": "markdown",
      "metadata": {
        "id": "view-in-github",
        "colab_type": "text"
      },
      "source": [
        "<a href=\"https://colab.research.google.com/github/Arash-Kamboj/IMDb-s-Top-50-Movies-Webscraping-Project-/blob/main/IMDb's_Top_50_Movies_Webscraping_Project.ipynb\" target=\"_parent\"><img src=\"https://colab.research.google.com/assets/colab-badge.svg\" alt=\"Open In Colab\"/></a>"
      ]
    },
    {
      "cell_type": "markdown",
      "source": [
        "In this project, I gathered and extracted relevant information from the IMDb website's 'Top 250' movie list, including movie rankings, titles, release years, IMDb ratings, vote counts, and genres, using web scraping techniques and data parsing in Python.\n",
        "\n",
        "---\n",
        "\n"
      ],
      "metadata": {
        "id": "vjp7A95NCPsU"
      }
    },
    {
      "cell_type": "code",
      "execution_count": null,
      "metadata": {
        "id": "M5Ayutzc_3pr"
      },
      "outputs": [],
      "source": [
        "import requests\n",
        "from bs4 import BeautifulSoup\n",
        "url = \"https://www.imdb.com/search/title/?groups=top_250&sort=user_rating\"\n",
        "\n",
        "response = requests.get(url)\n",
        "print(response.status_code)\n",
        "soup = BeautifulSoup(response.content, 'html.parser')\n",
        "movie_containers = soup.find_all('div',{'class':\"lister-item mode-advanced\"})\n",
        "\n",
        "print(len(movie_containers))\n",
        "movie_data = {}\n",
        "for container in movie_containers:\n",
        "    movie_info = {}\n",
        "    ranking = container.h3.span.text.replace('.', '')\n",
        "    movie_info['ranking'] = ranking\n",
        "    name = container.h3.a.text\n",
        "    movie_info['name'] = name\n",
        "    year = container.h3.find('span', {'class':'lister-item-year text-muted unbold'}).text.strip('()')\n",
        "    movie_info['year'] = year\n",
        "    imdb = container.strong.text\n",
        "    movie_info['imdb_rating'] = float(imdb)\n",
        "\n",
        "    vote = container.find('span', {'name':'nv'}).text\n",
        "    movie_info['votes'] = vote\n",
        "    genres = container.p.find('span', {'class' : 'genre'}).text.strip()\n",
        "    movie_info['genre'] = genres\n",
        "    movie_data[name] = movie_info\n",
        "print(movie_data)"
      ]
    },
    {
      "cell_type": "markdown",
      "source": [
        "In the following program, I created a dictionary of the data provided and wrote a Python program to performed operations as mentioned below:\n",
        "\n",
        "**Sorting Movie Data by IMDb Ratings:**\n",
        "After extracting movie data, sort it based on IMDb ratings in descending order using the sorted() function and a custom sorting key using the lambda function.\n",
        "\n",
        "**Selecting Top 5 Movies:**\n",
        "1. Create a list named top_5_movies containing the top 5 movies with the highest IMDb ratings by slicing the sorted movie data.\n",
        "2. Displaying Top Movies Information:\n",
        "Iterate through the top_5_movies list to print details about each of the top movies.\n",
        "\n",
        "\n",
        "---\n",
        "\n"
      ],
      "metadata": {
        "id": "QFFz0zsEBpCm"
      }
    },
    {
      "cell_type": "code",
      "source": [
        "movie_data = {'The Shawshank Redemption': {'ranking': '1', 'name': 'The Shawshank Redemption', 'year': '1994', 'imdb_rating': 9.3, 'votes': '2,791,397', 'genre': 'Drama'}, 'The Godfather': {'ranking': '2', 'name': 'The Godfather', 'year': '1972', 'imdb_rating': 9.2, 'votes': '1,944,229', 'genre': 'Crime, Drama'}, 'The Dark Knight': {'ranking': '3', 'name': 'The Dark Knight', 'year': '2008', 'imdb_rating': 9.0, 'votes': '2,771,569', 'genre': 'Action, Crime, Drama'}, \"Schindler's List\": {'ranking': '4', 'name': \"Schindler's List\", 'year': '1993', 'imdb_rating': 9.0, 'votes': '1,403,821', 'genre': 'Biography, Drama, History'}, 'The Godfather Part II': {'ranking': '5', 'name': 'The Godfather Part II', 'year': '1974', 'imdb_rating': 9.0, 'votes': '1,320,870', 'genre': 'Crime, Drama'}, 'The Lord of the Rings: The Return of the King': {'ranking': '6', 'name': 'The Lord of the Rings: The Return of the King', 'year': '2003', 'imdb_rating': 9.0, 'votes': '1,911,924', 'genre': 'Action, Adventure, Drama'}, '12 Angry Men': {'ranking': '7', 'name': '12 Angry Men', 'year': '1957', 'imdb_rating': 9.0, 'votes': '829,179', 'genre': 'Crime, Drama'}, 'Pulp Fiction': {'ranking': '8', 'name': 'Pulp Fiction', 'year': '1994', 'imdb_rating': 8.9, 'votes': '2,141,402', 'genre': 'Crime, Drama'}, 'Spider-Man: Across the Spider-Verse': {'ranking': '9', 'name': 'Spider-Man: Across the Spider-Verse', 'year': '2023', 'imdb_rating': 8.8, 'votes': '243,641', 'genre': 'Animation, Action, Adventure'}, 'Inception': {'ranking': '10', 'name': 'Inception', 'year': '2010', 'imdb_rating': 8.8, 'votes': '2,460,643', 'genre': 'Action, Adventure, Sci-Fi'}, 'The Lord of the Rings: The Fellowship of the Ring': {'ranking': '11', 'name': 'The Lord of the Rings: The Fellowship of the Ring', 'year': '2001', 'imdb_rating': 8.8, 'votes': '1,940,118', 'genre': 'Action, Adventure, Drama'}, 'Fight Club': {'ranking': '12', 'name': 'Fight Club', 'year': '1999', 'imdb_rating': 8.8, 'votes': '2,225,606', 'genre': 'Drama'}, 'Forrest Gump': {'ranking': '13', 'name': 'Forrest Gump', 'year': '1994', 'imdb_rating': 8.8, 'votes': '2,171,468', 'genre': 'Drama, Romance'}, 'Il buono, il brutto, il cattivo': {'ranking': '14', 'name': 'Il buono, il brutto, il cattivo', 'year': '1966', 'imdb_rating': 8.8, 'votes': '787,484', 'genre': 'Adventure, Western'}, 'The Lord of the Rings: The Two Towers': {'ranking': '15', 'name': 'The Lord of the Rings: The Two Towers', 'year': '2002', 'imdb_rating': 8.8, 'votes': '1,725,289', 'genre': 'Action, Adventure, Drama'}, 'Jai Bhim': {'ranking': '16', 'name': 'Jai Bhim', 'year': '2021', 'imdb_rating': 8.8, 'votes': '209,719', 'genre': 'Crime, Drama, Mystery'}, 'Interstellar': {'ranking': '17', 'name': 'Interstellar', 'year': '2014', 'imdb_rating': 8.7, 'votes': '1,978,037', 'genre': 'Adventure, Drama, Sci-Fi'}, 'Goodfellas': {'ranking': '18', 'name': 'Goodfellas', 'year': '1990', 'imdb_rating': 8.7, 'votes': '1,211,198', 'genre': 'Biography, Crime, Drama'}, 'The Matrix': {'ranking': '19', 'name': 'The Matrix', 'year': '1999', 'imdb_rating': 8.7, 'votes': '1,985,257', 'genre': 'Action, Sci-Fi'}, \"One Flew Over the Cuckoo's Nest\": {'ranking': '20', 'name': \"One Flew Over the Cuckoo's Nest\", 'year': '1975', 'imdb_rating': 8.7, 'votes': '1,041,219', 'genre': 'Drama'}, 'Star Wars: Episode V - The Empire Strikes Back': {'ranking': '21', 'name': 'Star Wars: Episode V - The Empire Strikes Back', 'year': '1980', 'imdb_rating': 8.7, 'votes': '1,338,664', 'genre': 'Action, Adventure, Fantasy'}, 'Oppenheimer': {'ranking': '22', 'name': 'Oppenheimer', 'year': '2023', 'imdb_rating': 8.6, 'votes': '399,297', 'genre': 'Biography, Drama, History'}, 'Se7en': {'ranking': '23', 'name': 'Se7en', 'year': '1995', 'imdb_rating': 8.6, 'votes': '1,727,769', 'genre': 'Crime, Drama, Mystery'}, 'The Silence of the Lambs': {'ranking': '24', 'name': 'The Silence of the Lambs', 'year': '1991', 'imdb_rating': 8.6, 'votes': '1,489,061', 'genre': 'Crime, Drama, Thriller'}, 'The Green Mile': {'ranking': '25', 'name': 'The Green Mile', 'year': '1999', 'imdb_rating': 8.6, 'votes': '1,356,698', 'genre': 'Crime, Drama, Fantasy'}, 'Saving Private Ryan': {'ranking': '26', 'name': 'Saving Private Ryan', 'year': '1998', 'imdb_rating': 8.6, 'votes': '1,445,823', 'genre': 'Drama, War'}, 'Terminator 2: Judgment Day': {'ranking': '27', 'name': 'Terminator 2: Judgment Day', 'year': '1991', 'imdb_rating': 8.6, 'votes': '1,138,887', 'genre': 'Action, Sci-Fi'}, 'Star Wars': {'ranking': '28', 'name': 'Star Wars', 'year': '1977', 'imdb_rating': 8.6, 'votes': '1,410,486', 'genre': 'Action, Adventure, Fantasy'}, 'Sen to Chihiro no kamikakushi': {'ranking': '29', 'name': 'Sen to Chihiro no kamikakushi', 'year': '2001', 'imdb_rating': 8.6, 'votes': '806,573', 'genre': 'Animation, Adventure, Family'}, 'Cidade de Deus': {'ranking': '30', 'name': 'Cidade de Deus', 'year': '2002', 'imdb_rating': 8.6, 'votes': '779,885', 'genre': 'Crime, Drama'}, 'La vita è bella': {'ranking': '31', 'name': 'La vita è bella', 'year': '1997', 'imdb_rating': 8.6, 'votes': '720,584', 'genre': 'Comedy, Drama, Romance'}, \"It's a Wonderful Life\": {'ranking': '32', 'name': \"It's a Wonderful Life\", 'year': '1946', 'imdb_rating': 8.6, 'votes': '477,856', 'genre': 'Drama, Family, Fantasy'}, 'Shichinin no samurai': {'ranking': '33', 'name': 'Shichinin no samurai', 'year': '1954', 'imdb_rating': 8.6, 'votes': '357,156', 'genre': 'Action, Drama'}, 'Seppuku': {'ranking': '34', 'name': 'Seppuku', 'year': '1962', 'imdb_rating': 8.6, 'votes': '63,281', 'genre': 'Action, Drama, Mystery'}, 'Gladiator': {'ranking': '35', 'name': 'Gladiator', 'year': '2000', 'imdb_rating': 8.5, 'votes': '1,558,002', 'genre': 'Action, Adventure, Drama'}, 'The Prestige': {'ranking': '36', 'name': 'The Prestige', 'year': '2006', 'imdb_rating': 8.5, 'votes': '1,391,963', 'genre': 'Drama, Mystery, Sci-Fi'}, 'The Departed': {'ranking': '37', 'name': 'The Departed', 'year': '2006', 'imdb_rating': 8.5, 'votes': '1,376,163', 'genre': 'Crime, Drama, Thriller'}, 'Back to the Future': {'ranking': '38', 'name': 'Back to the Future', 'year': '1985', 'imdb_rating': 8.5, 'votes': '1,259,666', 'genre': 'Adventure, Comedy, Sci-Fi'}, 'Django Unchained': {'ranking': '39', 'name': 'Django Unchained', 'year': '2012', 'imdb_rating': 8.5, 'votes': '1,629,532', 'genre': 'Drama, Western'}, 'Gisaengchung': {'ranking': '40', 'name': 'Gisaengchung', 'year': '2019', 'imdb_rating': 8.5, 'votes': '882,754', 'genre': 'Drama, Thriller'}, 'Alien': {'ranking': '41', 'name': 'Alien', 'year': '1979', 'imdb_rating': 8.5, 'votes': '916,536', 'genre': 'Horror, Sci-Fi'}, 'Whiplash': {'ranking': '42', 'name': 'Whiplash', 'year': '2014', 'imdb_rating': 8.5, 'votes': '927,771', 'genre': 'Drama, Music'}, 'Léon': {'ranking': '43', 'name': 'Léon', 'year': '1994', 'imdb_rating': 8.5, 'votes': '1,205,981', 'genre': 'Action, Crime, Drama'}, 'The Usual Suspects': {'ranking': '44', 'name': 'The Usual Suspects', 'year': '1995', 'imdb_rating': 8.5, 'votes': '1,116,458', 'genre': 'Crime, Drama, Mystery'}, 'The Pianist': {'ranking': '45', 'name': 'The Pianist', 'year': '2002', 'imdb_rating': 8.5, 'votes': '874,314', 'genre': 'Biography, Drama, Music'}, 'The Lion King': {'ranking': '46', 'name': 'The Lion King', 'year': '1994', 'imdb_rating': 8.5, 'votes': '1,102,361', 'genre': 'Animation, Adventure, Drama'}, 'American History X': {'ranking': '47', 'name': 'American History X', 'year': '1998', 'imdb_rating': 8.5, 'votes': '1,155,786', 'genre': 'Crime, Drama'}, 'Psycho': {'ranking': '48', 'name': 'Psycho', 'year': '1960', 'imdb_rating': 8.5, 'votes': '696,715', 'genre': 'Horror, Mystery, Thriller'}, 'The Intouchables': {'ranking': '49', 'name': 'The Intouchables', 'year': '2011', 'imdb_rating': 8.5, 'votes': '895,241', 'genre': 'Biography, Comedy, Drama'}, 'Casablanca': {'ranking': '50', 'name': 'Casablanca', 'year': '1942', 'imdb_rating': 8.5, 'votes': '590,567', 'genre': 'Drama, Romance, War'}}\n",
        "sorted_movie_data = sorted(movie_data.items(), key=lambda x: x[1]['imdb_rating'], reverse=True)\n",
        "top_5_movies = sorted_movie_data[:5]\n",
        "for movie_name, movie_info in top_5_movies:\n",
        "    print(f\"Movie: {movie_name}\")\n",
        "    print(f\"IMDb Rating: {movie_info['imdb_rating']}\")\n",
        "    print(f\"Year: {movie_info['year']}\")\n",
        "    print(f\"Votes: {movie_info['votes']}\")\n",
        "    print(f\"Genre: {movie_info['genre']}\")\n",
        "    print(\"=\" * 30)\n"
      ],
      "metadata": {
        "colab": {
          "base_uri": "https://localhost:8080/"
        },
        "id": "QFZWrcaBAFWl",
        "outputId": "0236b35b-5500-4767-c7b2-bb45180ea13e"
      },
      "execution_count": 4,
      "outputs": [
        {
          "output_type": "stream",
          "name": "stdout",
          "text": [
            "Movie: The Shawshank Redemption\n",
            "IMDb Rating: 9.3\n",
            "Year: 1994\n",
            "Votes: 2,791,397\n",
            "Genre: Drama\n",
            "==============================\n",
            "Movie: The Godfather\n",
            "IMDb Rating: 9.2\n",
            "Year: 1972\n",
            "Votes: 1,944,229\n",
            "Genre: Crime, Drama\n",
            "==============================\n",
            "Movie: The Dark Knight\n",
            "IMDb Rating: 9.0\n",
            "Year: 2008\n",
            "Votes: 2,771,569\n",
            "Genre: Action, Crime, Drama\n",
            "==============================\n",
            "Movie: Schindler's List\n",
            "IMDb Rating: 9.0\n",
            "Year: 1993\n",
            "Votes: 1,403,821\n",
            "Genre: Biography, Drama, History\n",
            "==============================\n",
            "Movie: The Godfather Part II\n",
            "IMDb Rating: 9.0\n",
            "Year: 1974\n",
            "Votes: 1,320,870\n",
            "Genre: Crime, Drama\n",
            "==============================\n"
          ]
        }
      ]
    },
    {
      "cell_type": "markdown",
      "source": [
        "**Analyze User Reviews for a Movie**\n",
        "\n",
        "For a movie (https://www.imdb.com/title/tt13375076/reviews/?ref_=ttexr_ql_2) from the list and fetch its user reviews. Display a subset of user reviews along with their sentiments. Analyze user sentiment to determine whether reviews are positive, negative, or neutral.\n",
        "\n",
        "**Implementation Steps**\n",
        "\n",
        "In this section, I will explore how to gather user reviews from an IMDb page, check for the presence of negative sentiment using a list of predefined bad words, and provide feedback based on the analysis.\n",
        "-"
      ],
      "metadata": {
        "id": "sTC0lTSBAsXT"
      }
    },
    {
      "cell_type": "code",
      "source": [
        "url=\"https://www.imdb.com/title/tt13375076/reviews/?ref_=ttexr_ql_2\"\n",
        "\n",
        "response = requests.get(url)\n",
        "print(response.status_code)\n",
        "soup = BeautifulSoup(response.content, 'html.parser')\n",
        "\n",
        "reviews = soup.find_all('div',{'class':\"lister-item-content\"})\n",
        "print(len(reviews))\n",
        "user_reviews = []\n",
        "for r in reviews:\n",
        "    ur = r.find(\"div\", {\"class\":\"text show-more__control\"}).text\n",
        "    user_reviews.append(ur)\n",
        "print(user_reviews)\n",
        "bad_words = ['not good', 'pathetic', 'cannot','poor', 'disappointed', 'disappointment', 'bad', 'uninspired', 'negative']\n",
        "\n",
        "def contains_bad_words(comment_text):\n",
        "    comment_text_lower = comment_text.lower()\n",
        "    for word in bad_words:\n",
        "        if word in comment_text_lower:\n",
        "            return True\n",
        "    return False\n",
        "user_reviews = enumerate(user_reviews, start=1)\n",
        "for idx, rev in user_reviews:\n",
        "    if contains_bad_words(rev):\n",
        "        print(f\"Quote {idx}: Contains bad words\")\n",
        "    else:\n",
        "        print(f\"Quote {idx}: Good\")"
      ],
      "metadata": {
        "colab": {
          "base_uri": "https://localhost:8080/"
        },
        "id": "psDI86CBA78F",
        "outputId": "1430852d-1c4e-45cc-eb78-a2190b893608"
      },
      "execution_count": 5,
      "outputs": [
        {
          "output_type": "stream",
          "name": "stdout",
          "text": [
            "200\n",
            "25\n",
            "[\"Like clockwork we have at least 2 possession films each year around the same time. Easter and Halloween it seems. They're usually hit or miss with the same cliches strewn about with maybe some attempts at being slightly innovative. While this doesn't break away too much from the plot formula, Crowe's powerhouse performance does and amplifies the overall film to enticing levels. He has clearly found his late career niche with thrillers/horrors of late and it works extremely well. The scares are serviceable and the story is as well. Visually it's one of the best possession films I've seen in quite sometime with fantastic settings and terrific practical and cgi features. This doesn't mean the cliches don't hinder it at times but overall a very welcome film for the genre.\", \"Father Gabriele Amorth is dispatched by The Vatican to assist a family, who's youngest member has become possessed by a powerful Demon, Amorth unearths all manner of secrets, some of which The Vatican would prefer stayed secret.I'll be honest, I had low expectations for this film, let's be honest, how many possession films have been released in recent years, some low budget some high, one or two pretty good, the majority not white. The Pope's Exorcist actually rates quite highly.There are the moments and sequences that you'd expect, the jump scares, the dialogues, the explosions, they're all there, but there is so much more, the characters are all well developed and have more depth than you'd expect, it delivers scares and emotional kicks in equal measure.Father Amorth is the coolest Priest I've seen on the big screen, Russell Crowe was brilliant, he was tough, he was funny, he drove a Vespa, on my book, be rocked.This film gave me back some faith in a genre that I thought had long since run its course.8/10.\", \"It's a double edged sword when an actor becomes super famous. On one side, they are extremely marketable and gain great roles. However, on the other side, we tend to see the actor in the movie and not the character which distracts from the experience of the story.This was not the case with this film. I'm not an accent specialist nor a native Italian speaker, but Russell's portrayable had me convinced.The story itself was exciting and intriguing. There were some nonsensical aspects of course. Its a very fictional film with its own share of contradictions that are noticeable. The authenticity of the Vatican traditions and language barriers might have been compromised, but as a normal viewer, none of it was recognizable thus not bothered.Overall I give this a 7. It's not going to leave a lasting impression on me, but It was a good to watch.\", \"I honestly went in their with really low expectations. I walked out of The Devil in Me as we've seen it all before it's the same formula and nothing ever will live up to the original Exorcist. I think I can name 3 good exorcism movies. The Exorcist, Exorcist 3 and the Exorcism of Emily Rose. The plot really gets moving fast! There's no real character building but what I will say is Russell Crowe really does play the part well. It's a mixture of a great performance and a parody..whatever it is it works! It doesn't really do anything new, we've seen it all before but for some reason or another this was better than expected. Give it a watch.\", 'I was pleasantly surprised at how much I enjoyed The Pope\\'s Exorcist. After initially seeing the trailers, I wrote this movie off as a standard possession film that I have seen time and time again, and while most of that is still true, there is something about this film that made it a joy to watch.The film does not attempt to do anything particularly new or groundbreaking in the genre, but everything it has is handled with care and precision. The direction is fantastic, with a very quick pace that makes each scene have a sense of urgency as our characters attempt to perform the exorcism. There is particularly deep lore that is established within the church structure, with different factions and politics at play that add a slightly different dimension rather than just your run-of-the-mill \"insert random priest here.\"My favorite aspect of the film is the acting. I think all of the adult characters do a tremendous job here. Russell Crowe kills it in every scene he is in and definitely gives an entirely different take on the exorcist character. Where most are intensely serious and melodramatic, Crowe adds a bit of whimsicalness and youth to the character that creates a calming presence to every intense scene. His rapport with Daniel Zovatto is excellent. The two really play off each other well and carried the film in many ways. Alex Essoe was great, although underutilized. The two children were okay. The boy gave a very stereotypical portrayal of a possessed child, and the daughter was flat in many ways.My only complaint about the entire film is its lack of originality and the story. Every single beat is something that we have seen before; there were no new or fresh ideas that were interjected into the story. The tension was fine, but nothing was particularly scary. Overall, if not for the film\\'s fantastic director and cast, it would have been a bomb.Score: 63% 👍\\nVerdict: Decent.', 'Having not seen a decent horror surface for a long time, I was quite excited to go along and see Crowe\\'s first horror flick.It says \"inspired by Vatican files\" so I\\'m not quite sure how much of this film is factual but It\\'s your typical possession story. However, Russell Crowe plays a solid and strong performance which makes his character very likeable and most importantly believable. I also liked his characters sense of humour which Crowe played very well..Lot\\'s of cliches, although it was a good watch but not very scary. The special effects and CGI for the most of the movie were very good but it did struggle during certain moments. The depth to the plot was good but I feel the other characters could have been stronger.Overall, this is a good movie and Crowe carried it very well. I\\'d recommend that you go if you like this genre.', \"Critics said that Russell Crowe's performance as an Italian was dismal . I strongly disagree . He captured the essence of an Italian man . His accent was excellent\\nI liked the way he delivered his lines and the way he showed his sense of humour . He was fantastic !The other actors were great too ! . The Set was brilliantThis film could have been spectacular .However it was marred by the boy. The little boy over acted his role . It looked ridiculous and laughable . It is not the child's fault . It was the casting director's fault and the film directors fault . The little boy had the 'stage school presence' about him . These kids who go to stage schools over emphasise everything as they are taught to . They are trained for roles in the Theatre where everything is over dramatised . So when these kids appear in films , it doesn't work . UNLESS the film director can obliterate that stage school training and give these kids a fresh approach and train them in a totally different way so they can act well in films .Also the voice the boy had as a demon was not synched properly ! It looked pathetic! . He looked like he was playing a joke on the Priests and would burst into a fit of giggles at any time . How could anyone involved in the film think that sounded scary and authentic! It made the film into a comedy horror ! I was laughing .If the Casting Director had chosen the right boy to play the part the film would have been fantastic . It is still a good movie and worth watching\\nThe twist at the End is great and unexpected . Loved that! .Some people in this review section said it's been done before . Well it's very hard to get new concept in horror films. I don't care if it was done before as long as it's done well !\", \"Russell Crowe plays the real life Pope's exorcist, Gabriele Amorth. Father Amorth passed away in 2006 and its probably a good thing. While this movie is spooky and entertaining, its a big, exaggerated, and I assume highly fictionalized, version of a time in Father Amorth's life.The Pope (Franco Nero) assigns Father Amorth to look into a potential demonic possession of a young boy in Spain. The boy, Henry (Peter DeSouza-Feighoney), his mother Julia (Alex Essoe) and his sister Amy (Laurel Marsden) are Americans who move to Spain after the death of Henry's father in a car accident. They are living in an old Spanish abbey that is the only think Julia's husband left them when he died in a car accident the year before. A local priest, Father Esquible (Daniel Zovatto) is out of his element, but is enlisted by Amorth to assist in the exorcism.The possession tropes are all here. Contortions, scary voices, lights going on and off, crosses turning upside down, people getting thrown around, possessed people spewing fluids and cursing, climbing walls and crawling around like spiders. There is a mystery about the origin of the abbey dealing with the church's role in the Inquisition.There is some gratuitous nudity that just felt out of place in this movie. I mean, I like naked breasts as much as the next guy, but it just felt a bit uneccessary.Crowe does a really good job as Father Amorth. He has the right balance of faith, weariness and conviction for someone who faces evil of all kinds. Zovatto's performance as Father Esquibel, to me, was the highlight of the film. He keeps everything grounded, despite the bizarre happenings. All three of the actors playing the family members are cookie-cutter performances and don't really add or subtract from the proceedings. There are some genuine chills in this move and a few scary moments. I enjoyed it and its crisp runtime kept it from getting boring. Still, I was hoping for a bit more story and less stunt work. I mean how many times do we need to see someone get thrown across a room into a mirrored wall and get right back up? One character, while wrestling with a possessed child, gets their head smashed through a ceramic sink with no effect. I might have tapped out and sought some aspirin.Enjoy it for what it is. Then go watch the Exorcist again.\", \"Oh dear. I'm not sure if the makers of this movie were going for comedy horror or something else but it didn't really work. It was basically a film of silly voices. There wasn't enough tension to hold my engagement or enough story to keep me interested.Some of the effects were good but nothing I haven't seen before. Russell Crowe was enjoyable to watch but it was difficult to take his character seriously and I'm not sure as a viewer I was supposed to. It was all just a bit too silly for my taste. I didn't believe the setting, it was too fantastical and the family characters were more like caricatures. It sort of hinted at a story for them but that didn't really go anywhere. So, superfluous and silly but not awful.\", 'After seeing the trailer for \"The Pope\\'s Exorcist\", I thought it would be another one of those lousy exorcism movies that have been released in recent years, but to my surprise I found a good, entertaining movie that enjoys some clichés of the exorcism movie theme. The performances are good, Russell Crowe achieves an interesting performance, while Franco Nero offers a successful performance. The script with the already boring legend: \"based on true events\", is entertaining and has innovative moments, other interesting ones and a funny appearance of clichés, the dialogues are usually plausible but some jokingly are absurd. The soundtrack has potential and the cinematography triumphs with its chiaroscuro, achieving a good atmosphere together with the filming locations. The downside are the digital special effects that look fake in several scenes, but the gore and some old-school effects are welcome. \"The Pope\\'s Exorcist\" isn\\'t the best exorcism movie ever made, but it manages to stand out from most that have touched on this subject in recent years.', 'Julius Avery\\'s films Overlord and Samaritan have offered differing outputs and satisfaction levels, but one thing that made them both stand out is their unique visual signature. So, when he ventures into an exorcism film set in Spain with Russell Crowe starrring, there\\'s always a sense of \"oh let\\'s see how that turns out.\" That\\'s just natural excitement! But the plot, the house-with-dark-secrets setting, the Vatican connection, the generic exorcism scenes - everything comes with a seen-that-before stamp. There\\'s also some excessive CGI which is off-putting in horror films, further dissolving the overall impact.I\\'ll give credit to Avery for some of the wider, panoramic shots. However, most of the interior scenes not only lack the basic horror ingredient (i.e. The element of surprise) but also the decision to juxtapose humour in critical situations takes the whole damn wind out of the sails. It works only when the humour is situationally dark and organic (like in, say Evil Dead Rise) but here, everyone except for Crowe\\'s character is shown to be pissing their pants. And that includes the Pope himself. Also, the supporting cast is pretty hit-and-miss. Ultimately, this film does nothing for the exorcism sub-genre. It ends up being just another exorcism flick with very little redeemable qualities.', 'From my review for Prey for the Devil (2 stars): \"I also think I might be done with exorcism horror flicks. A couple come out each year and they\\'re usually useless.\"Because of this, I originally had no interest in The Pope\\'s Exorcist. But I saw some good buzz around it and gave in. I thought it might be different. Why would I think that?How many times can we see a cross turn upside down? How many times can we see a body contortionist? How many times can we see a priest yelling at the possessed? How many times can we see someone thrown against a wall?It\\'s all the same, and I don\\'t know how people continue to be scared or entertained by it. This movie could not get me even 1% invested, intrigued or scared. I didn\\'t care about anything except maybe how often the lead actress makes the same facial expression. (1 viewing, 5/6/2023)', 'Finally, I am sick to death of horror movies that solely rely on jump scares to call it a horror, this story had a bit of weight to it and I was happy overall.So it\\'s your average story, the chief exorcist is sent to do an exorcism, what changes this movie is that it has a nice to to the Vatican and the church dating way back and many hidden secrets.Russel Crowe was fantastic, having an actor that can bring a certain charm to a role like this is definitely drawing.The \"scenes\" were all good and it took a route I wasn\\'t expecting. The CG was good along worth an effective score and good prosthetics. The supporting cast were good and i especially enjoyed father Thomas.There were some times that felt a little unnecessary BUT the good outweighs the bad in this one and I can honestly see a sequel if it does well. I\\'d recommend going out to see it in cinema !', 'SPOILERS.Predictable and cheesey \"You\\'re all going to die\" (delivered with zero menace by a child actor, they should have looked harder because he\\'s unconvincing or maybe its the direction) and some scenes are unintentionally hilarious. \"Wrong Priest\" 😁 and the \"Panty Sniffer \" priest who is totally useless and his acting b movie level. Is it meant to be a dark comedy? Also would you seriously leave a young boy alone with a Catholic priest!?.The films desperation to add shocking dialogue from a child fails and it all still pales in comparison to The Exorcist even now after all these years. Some very poor cgi throughout.The Demon sounds like one of the Orcs from Lord of the Rings. Like a London Taxi Driver with a sore throat. Ha ha.Its cliche after cliche. Crowes accent isn\\'t as annoying as I thought from Trailer and his acting is strong considering the turd he is in.Who the hell directed this? Is it their first Horror film? It fails to have any genuine\\nThe location is magnificent though love that place. 😍 and some impressive sets. But its full fat cheese.The fact they try to pass off all the child sex abuse of the Catholic Church because of Satan is insulting to all those who were abused.Despite all these negatives. I am still kinda enjoyed parts of it as a comedy. Things try best pick up once they enter the Catacomb but its a mess at the end of the day.', \"I didn't have high expectations but it was more boring than I thought. Russell does his part acting but the script is simple, sophomoreish and the dialogue is predictable and simple The costume is not realistic, too new, the acting of the kids are too woody. The special effects are laughable. The most scary scenes I found myself laughing out loud...The scare scenes are too predictable and not scary...the cinemato6is sometimes good and sometimes very bad, the music is over dramatic, they rely too much on using the music to make it dramatic...I would not recommend watching this unless you were stoned at home or if there was nothing else on TV. I certainly would not pay to watch it.\", \"It's 1987. Father Gabriel Amorth (Russell Crowe) is the Chief Exorcist appointed by the Pope (Franco Nero). He faces skeptism from some in the church. He refers 98% of his cases to the medical professionals. He is called to Spain for a dangerous case. Widower Julia (Alex Essoe) and her two kids, Henry and Amy, moved into an old Abbey inherited from her late husband. Henry becomes possessed. Father Esquibel (Daniel Zovatto) is the local priest.This suffers from the standard horror problem. The family would never stay in the house especially after the gas problem. Sure, the fireballs are fun, but no reasonable family would stay in a place that could blow up at any time. Amorth gives the mom a reason to stay, but the hot teen has to stay for completely different non-story reasons. Aside from that, this is a fine possession horror. It's not great. Russell Crowe gives this movie some heft. I would definitely play up the 'based on real story' aspect even if it's not true. The movie seems to end with sequels in mind. I don't see any of that coming.\", \"The Pope's Exorcist is another cliched horror movie that fails to offer anything new or innovative to the genre. The story revolves around the same old tired tropes of a haunted mansion, a family moving in, and a malevolent ghost targeting a child. The film lacks any jump scares or truly scary moments, relying instead on tired and predictable horror clichés.Even the presence of Russell Crowe fails to elevate the film, as he is given a limited scope of work and ultimately cannot save the movie from its own mediocrity. The Pope's Exorcist is a disappointing addition to the horror genre and fails to bring anything new or worthwhile to the table.\", \"As someone that loves movies in general and often reviews films as they are, I saw this film last week and it was surprisingly better than expected. Is it golden globe worthy? Not at all but it is worthy enough to deliver what it was supposed to do? Yes. I love exorcism based films for the stories they tell and the types of demons we learn about through the stories. Exorcism films generally focus more on a storyline rather than the adrenaline of scare that differs (and separates) from the elements of creepiness. The Pope's Exorcist does just that - focuses on the story without much of the scare factor, which is exactly what this film should be, and is. That's what I wanted and got - a story. The only creepy elements are the castle, the grounds of the home itself. That's it. The cinematography was beautiful and the demon/possessions revealed in this film was solid; the aggressiveness of the demon. Russell Crowe delivers a strong performance with a pinch of sarcasm that compliments his character..\\n.The only element I didn't care for was the family, specifically the actors that were cast for their characters didn't fit the film in my opinion. Especially the actor cast as the daughter-who looked and felt disconnected. She was not the best choice for this role in my opinion; she just didn't fit in. This film is worth seeing but it won't be your first choice..\\n.Cinematography & Film Setting: 9\\nCharacters: 7.5\\nStoryline: 7\\nOverall Rating: 7.5.\", \"So I will say that this was better than I expected it to be. While the story wasn't anything crazy original or innovative, it was still thoroughly entertaining with solid and engaging pacing and decent acting across the board.Despite some wavering with the accent, and some cliche humor, I thought Crowe did a good job and I enjoyed his character. The mother also did a solid job, I am a fan of Alex Essoe. The only acting that stuck out negatively to me was that of Cardinal Sullivan.While I think this story would have been a bit more successful with something different than every other exorcism tale... it was very atmospheric, awesome locations and some really cool CGI/special effects. I don't think this will blow you away by any means but it is most certainly an entertaining, spooky experience.Despite its biggest downfall being lack of originality and recycling of clichés and tropes, I think a lot of other positives took up for that. 6.5 rounding to a 7, would recommend.\", \"Saw a few previews for this prior to watching & to be fair, wasn't expecting much, the previews didn't exactly show much or sell the film to me as such. But, being a horror fan I went into see this anyway.Inspired by the actual files of Father Gabriele Amorth, Chief Exorcist of the Vatican. The film follows Amorth in the summer of 1987 as he investigates a young boy's terrifying possession & ends up uncovering a centuries-old conspiracy the Vatican has desperately tried to keep hidden.I found the film to be surprisingly good! At first, it seemed to be pretty sub standard stuff for a supernatural flick, though not bad. But, when it got to the middle & really broke in, it started to really show some good stuff going on & by the third act & the end, it was ace!The films runtime isn't bad at 97 minutes (1 hour & 37 minute), along with it's pacing which is a little slow in areas, but not bad. The characters of the family could've been better developed more I think, but the story is good & the visuals are pretty ace too along with a great triumph of an ending!Overall, it's a great film supernatural horror film! It isn't groundbreaking stuff, but what does it matter? It's got a good (true) story, has some great & scary visuals & a triumph of an ending you'll love! Russell Crowe is good in this & with a great runtime, & not bad pacing, this is one supernatural flick you won't want to miss!9/10.\", 'Wow what a boring, bland piece of demonic trash! Almost nothing happens this entire movie that takes place in basically one setting. Every trope ever conceived in an exorcism movie is on full display, but in the most bland way possible. It\\'s as if the director doesn\\'t know how to orchestrate tension because there was ZERO.The demon was an absolute joke with little to no power. All the demon would do was stay tied to the bed and yell terribly wirtten expletives that you would hear a 9 year-old yell in an Xbox Live lobby.The only somewhat redeeming/entertaining factor of this movie was Russell Crowe in an extremely random role. Still, they didn\\'t let Crowe chew the scenery enough because the director probably wanted to keep the vibe of the movie \"dark and horrifying\", though it was most definitely neither.There was also a terrible part during the finale where Crowe and his sidekick pull out their crosses for one last chance at beating the demon. I kid you not, when they pulled out the crosses, they made a high-pitched \"power-up\" noise, as if the crosses were charging up a power attack. What an absolute joke!I can\\'t believe all the people giving this dumpster fire a 9 or 10. Thats just complete disrespect to cinema and you should be thrown to the depths of Hell for such blasphemy.3.5/10.', 'SPOILER Russel Crowe is fun, and the movie moves along quite nicely. There\\'s a mystery that must be solved, too. Wonderful special effects, and a game cast round out what should have been a fun, occasionally scary (whatever that means) movie. Unfortunately...In two different scenes, Father Exorcist discovers \"truths\" about the past of the Catholic Church, regarding their most infamous, uh, transgressions; The Spanish Inquisition and the more recent, decades-long sexual abuse scandal. And what is the film\\'s conclusion, you ask? That the Devil did it all. Not humans. The Devil. This film literally vomited all over everyone who ever suffered at the hands of the Catholic Church.Good going.', \"Fifty years ago, The Exorcist was a groundbreaking piece of cinema. This tired and tiring rip-off, is a disgrace.Here are the differences between the two: The sick child is a boy, the projectile vomit is red, and the spider-crawl wasn't left on the cutting-room floor.Here are the similarities: Everything else. People in the cinema were laughing as they audibly ticked off a check-list.To be fair to Russell Crowe, the only thing he really did wrong was to agree to appear in the first place. To be fair to the rest of the cast, some of them were too young to realise what a travesty they'd got themselves into.To be fair to the writer, the director and the producer(s) you would need a pointed stick.\", 'I haven\\'t seen a lot of other movies of this type since 1973\\'s \"The Exorcist\", so I can\\'t relate to other reviewers remarking how this one resembles \\'hundreds\\' of other films about exorcism. If there were hundreds of other exorcist movies, I think I\\'d at least be aware of them. For what this was, I thought it was pretty good. Russell Crowe portrays a dedicated but sometimes ribald servant of God, placed in the unenviable position of being a handpicked exorcist for the Pope. The Pope is never mentioned by name, but the years 1986 through 2016 coincide with the papacies of John Paul II, Benedict XVI and current Pope Francis. The one in the story, portrayed by Franco Nero, most closely resembles John Paul II, who reigned from 1978 till 2005.Though the movie follows a fairly traditional formula (like those hundreds of others), I thought it was well done. The opening scene prepares the viewer for the idea that most cases of presumed demonic possession are really something else requiring a doctor or psychiatrist to sort out. I wouldn\\'t have expected the ratio to be 98:2, but on reflection, that seems to make sense. So, when Father Gabriel Amorth (Crowe) is dispatched to Spain to investigate the case of a young boy named Henry (Peter de Souza-Feighoney), he\\'s immediately confronted by a demon that even he realizes will require immense effort to free the youth. Assisting Amorth is the local priest, Father Tomas Esquibel (Daniel Zovatto), who harbors a few secrets of his own that he must confess before the sacred rituals begin.A subtext of the picture involves the origins of the Spanish Inquisition and its origins, a topic I\\'m not familiar enough with to comment on, but something I\\'ll want to investigate further. I\\'ll also want to investigate the story of the real Father Gabriel Amorth, beginning with the William Friedkin directed documentary, \"The Devil and Father Amorth\", and maybe even pick up one of the books by the good Father. By all accounts, including the movie, they\\'re supposed to be real good.', \"This movie is nothing new, the same has been done so many times before and much better than this. The plot is slow and boring, nothing is unexpected or exciting. The cast don't give any kind of charisma or gel well. The use of Ralph Ineson's voice for the demon was very distracting and, because its so recognisable, had a negative effect on the believability while watching. The lack of originality was frustrating and I found it very difficult to engage in what was happening or even care.On the positive side, Peter DeSouza-Feighoney is quite an incredible actor. He stole the show and, for me, was the only good thing to come out of it.\"]\n",
            "Quote 1: Good\n",
            "Quote 2: Good\n",
            "Quote 3: Good\n",
            "Quote 4: Good\n",
            "Quote 5: Good\n",
            "Quote 6: Good\n",
            "Quote 7: Contains bad words\n",
            "Quote 8: Good\n",
            "Quote 9: Good\n",
            "Quote 10: Good\n",
            "Quote 11: Good\n",
            "Quote 12: Good\n",
            "Quote 13: Contains bad words\n",
            "Quote 14: Contains bad words\n",
            "Quote 15: Contains bad words\n",
            "Quote 16: Good\n",
            "Quote 17: Contains bad words\n",
            "Quote 18: Good\n",
            "Quote 19: Contains bad words\n",
            "Quote 20: Contains bad words\n",
            "Quote 21: Good\n",
            "Quote 22: Good\n",
            "Quote 23: Good\n",
            "Quote 24: Good\n",
            "Quote 25: Contains bad words\n"
          ]
        }
      ]
    },
    {
      "cell_type": "markdown",
      "source": [
        "**Summary**\n",
        "\n",
        "With this project, I extended the web scraping implementation to include sorting the extracted movie data based on IMDb ratings and displaying the top 5 movies with the highest ratings. By using the sorted() function, I organized the movies in descending order and then presented key details such as the movie name, IMDb rating, release year, number of votes, and genre for each of the top 5 movies."
      ],
      "metadata": {
        "id": "7ASKngoKC9EN"
      }
    }
  ]
}